{
 "cells": [
  {
   "cell_type": "markdown",
   "metadata": {},
   "source": [
    "# Interactive .bib visualiser\n",
    "This notebook takes a bib file and generates an interactive html page with each of the contained papers in chronological order."
   ]
  },
  {
   "cell_type": "code",
   "execution_count": 3,
   "metadata": {},
   "outputs": [],
   "source": [
    "from pylatexenc.latex2text import LatexNodes2Text \n",
    "import pybtex.database\n",
    "\n",
    "\n",
    "bib_data = pybtex.database.parse_file('references.bib')\n",
    "\n",
    "\n",
    "# create intermediary data structure (dict) holding all the values in an accessible way (for sorting by year later on)\n",
    "all_useful_parts = []\n",
    "for item in bib_data.entries.items():\n",
    "    key = item[0]\n",
    "    entry = item[1]\n",
    "    url = entry.fields['url']\n",
    "    title = entry.fields['title']\n",
    "    year = entry.fields['year']\n",
    "    authors = [[person.first_names, person.last_names] for person in entry.persons['author']]\n",
    "    # make sure to catch any special characters in author's names using latex_to_text()\n",
    "    authors = LatexNodes2Text().latex_to_text(\", \".join([\" \".join(f) + ' ' + \" \".join(l)  for f, l in authors]))\n",
    "    #print(authors, ':', title)\n",
    "    first_author = entry.persons['author'][0].last_names[0]\n",
    "    \n",
    "    useful_parts = {'title':title, 'authors':authors, 'url':url, 'year':int(year), 'first_author':first_author}\n",
    "    all_useful_parts.append(useful_parts)\n",
    "    \n",
    "    \n",
    "# now the html can be built (by year [descending])\n",
    "# NOTE: this may be improved using the beautifulsoup (bs4) python module? worth investigating\n",
    "connected_papers_url = 'https://www.connectedpapers.com/search?q='\n",
    "google_scholar_url = 'https://scholar.google.com/scholar?q='\n",
    "all_html = ''\n",
    "for year in range(2020, 2006, -1):\n",
    "        \n",
    "    this_years_papers = [paper for paper in all_useful_parts if (paper['year'] == year) ]\n",
    "    \n",
    "    html_row = '<div class=\"row\">'\n",
    "    html_row +='<div class=\"col-2 year\"><h1>' + str(year) + '</h1></div>\\n'\n",
    "    \n",
    "    #html_row += '<span>\\n'\n",
    "    for paper in this_years_papers:\n",
    "        html_entry = '<span class=\"paper\">\\n'\n",
    "        \n",
    "        # first author's last name\n",
    "        html_entry += '<a class=\"btn btn-primary first\"><p>' + paper['first_author'] + '</p></a>\\n'\n",
    "        \n",
    "        # paper title\n",
    "        html_entry += '<p class=\"title\"><a href=\"' + paper['url'] + '\">' + paper['title'] + '</a></p>\\n'\n",
    "        \n",
    "        # all authors\n",
    "        html_entry += \"<p class='authors'>\"\n",
    "        for author in paper['authors'].split(','):\n",
    "            html_entry += '<a href=\"https://www.google.com/search?q=' + author + '\">' + author + \"</a>\\n\"\n",
    "        html_entry += \"</p>\\n\"\n",
    "        \n",
    "        # connected papers search link\n",
    "        html_entry += '<a class=\"btn btn-info\" href=\"' + connected_papers_url + paper['title'] + '\"><p>Show Connected Papers</p></a>'\n",
    "        \n",
    "        # google scholar search link\n",
    "        html_entry += '<a class=\"btn btn-info\" href=\"' + google_scholar_url + paper['title'] + '\"><p>Search on Scholar</p></a>'\n",
    "        \n",
    "        \n",
    "        html_entry += '</span>'        \n",
    "        html_row += html_entry\n",
    "    #html_row += '</span>\\n'\n",
    "    \n",
    "    html_row += '</div>\\n'\n",
    "    \n",
    "    all_html += html_row\n",
    "    \n",
    "    \n",
    "# finally, attach the header and footer html files to the all_html string\n",
    "with open('header.html', 'r') as file:\n",
    "    all_html = file.read() + all_html\n",
    "with open('footer.html', 'r') as file:\n",
    "    all_html += file.read()\n",
    "    \n",
    "# and save the resulting file as html\n",
    "with open('index.html', 'w') as file:\n",
    "    file.write(all_html)"
   ]
  },
  {
   "cell_type": "markdown",
   "metadata": {},
   "source": [
    "# Behavioural Measures Plot"
   ]
  },
  {
   "cell_type": "code",
   "execution_count": null,
   "metadata": {},
   "outputs": [],
   "source": []
  },
  {
   "cell_type": "code",
   "execution_count": null,
   "metadata": {},
   "outputs": [],
   "source": []
  },
  {
   "cell_type": "code",
   "execution_count": null,
   "metadata": {},
   "outputs": [],
   "source": []
  }
 ],
 "metadata": {
  "kernelspec": {
   "display_name": "Python 3",
   "language": "python",
   "name": "python3"
  },
  "language_info": {
   "codemirror_mode": {
    "name": "ipython",
    "version": 3
   },
   "file_extension": ".py",
   "mimetype": "text/x-python",
   "name": "python",
   "nbconvert_exporter": "python",
   "pygments_lexer": "ipython3",
   "version": "3.8.5"
  }
 },
 "nbformat": 4,
 "nbformat_minor": 4
}
